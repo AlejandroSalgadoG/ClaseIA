{
 "cells": [
  {
   "cell_type": "code",
   "execution_count": 1,
   "metadata": {},
   "outputs": [],
   "source": [
    "from Kmeans import kmeans\n",
    "from FuzzyKMeans import fuzzy_kmeans\n",
    "from Mountain import mountain\n",
    "from Substractive import substract\n",
    "from Agglomerative import agglomerative\n",
    "\n",
    "from Utils import *\n",
    "from PlotResults import *\n",
    "\n",
    "import matplotlib.pyplot as plt\n",
    "import pandas as pd\n",
    "import sklearn.metrics as mt\n",
    "import seaborn as sns\n",
    "from sklearn import preprocessing"
   ]
  },
  {
   "cell_type": "code",
   "execution_count": 2,
   "metadata": {},
   "outputs": [],
   "source": [
    "import numpy as np\n",
    "import matplotlib.image as matimg\n",
    "from sklearn.manifold import TSNE\n",
    "\n",
    "\n",
    "from PlotResults import plot_data2d, plot_data3d\n",
    "img_file = \"MNM_small.jpg\"\n",
    "img_name = img_file.split('.')[0]\n",
    "img = matimg.imread(f\"images/{img_file}\").astype(int)\n",
    "img_n, img_m, _ = img.shape\n",
    "X = img.reshape(img_n * img_m, 3)"
   ]
  },
  {
   "cell_type": "code",
   "execution_count": 3,
   "metadata": {},
   "outputs": [],
   "source": [
    "def metrics_clusters(X, labels):\n",
    "    metrics_res = {}\n",
    "    metrics_res[\"Silhouette\"] = mt.silhouette_score(X, labels)\n",
    "    metrics_res[\"Davies-Bouldin\"] = mt.davies_bouldin_score(X, labels)\n",
    "    metrics_res[\"Calinski-Harabasz\"] = mt.calinski_harabasz_score(X, labels)\n",
    "    return metrics_res\n"
   ]
  },
  {
   "cell_type": "code",
   "execution_count": 4,
   "metadata": {},
   "outputs": [],
   "source": [
    "max_num_clusters = 12\n",
    "min_num_clusters = 2\n"
   ]
  },
  {
   "cell_type": "code",
   "execution_count": null,
   "metadata": {},
   "outputs": [],
   "source": [
    "results_metrics = {}\n",
    "for num_clusters in range(min_num_clusters, max_num_clusters):\n",
    "    # Kmeans\n",
    "    C, M = kmeans(X, num_c=num_clusters, iters=10)\n",
    "    results_metrics[f\"Kmeans_{num_clusters}\"] = metrics_clusters(X, M)\n",
    "    # Cmeans\n",
    "    C, U = fuzzy_kmeans(X, num_c=num_clusters, iters=10)\n",
    "    M, Umax = fuzzy_to_membership(U)\n",
    "    results_metrics[f\"Cmeans_{num_clusters}\"] = metrics_clusters(X, M)\n",
    "    # Mountain\n",
    "    C = mountain( X , num_c=num_clusters, num_div=5)\n",
    "    M = calculate_membership( X, C )\n",
    "    results_metrics[f\"Mountain_{num_clusters}\"] = metrics_clusters(X, M)\n",
    "    # Substract\n",
    "    C = substract(X, num_c=num_clusters, num_div=5)\n",
    "    M = calculate_membership(X, C)\n",
    "    results_metrics[f\"Substract_{num_clusters}\"] = metrics_clusters(X, M)\n",
    "    # agglomerative\n",
    "    M = agglomerative(X, num_c=num_clusters)\n",
    "    results_metrics[f\"Agglomerative_{num_clusters}\"] = metrics_clusters(X, M)"
   ]
  },
  {
   "cell_type": "code",
   "execution_count": null,
   "metadata": {},
   "outputs": [],
   "source": [
    "data = pd.DataFrame.from_dict(results_metrics, orient=\"index\")\n",
    "data[\"n_clusters\"] = data.index.str.split('_').str[-1]\n",
    "data[\"model\"] = data.index.str.split('_').str[0]\n",
    "\n",
    "data_norm = data.copy()\n",
    "cols_to_norm = ['Silhouette', 'Davies-Bouldin', 'Calinski-Harabasz']\n",
    "min_max_scaler = preprocessing.MinMaxScaler()\n",
    "data_norm[cols_to_norm] = min_max_scaler.fit_transform(data[cols_to_norm])\n",
    "# \n",
    "df = data_norm.melt(id_vars=data_norm.columns[3:],\n",
    "                   value_vars=cols_to_norm,\n",
    "                   var_name='metric_name', value_name='value')\n",
    "\n"
   ]
  },
  {
   "cell_type": "code",
   "execution_count": null,
   "metadata": {},
   "outputs": [],
   "source": [
    "g = sns.FacetGrid(df, col=\"model\", hue='metric_name')#, hue=\"smoker\")\n",
    "g.map(sns.lineplot, \"n_clusters\", \"value\", alpha=.7)\n",
    "g.add_legend()\n",
    "g.tight_layout()\n",
    "g.savefig(f'results/metrics_clusters_{img_name}.png')"
   ]
  },
  {
   "cell_type": "code",
   "execution_count": null,
   "metadata": {},
   "outputs": [],
   "source": [
    "data.to_csv(f\"results/{img_name}.csv\")"
   ]
  }
 ],
 "metadata": {
  "kernelspec": {
   "display_name": "Python 3",
   "language": "python",
   "name": "python3"
  },
  "language_info": {
   "codemirror_mode": {
    "name": "ipython",
    "version": 3
   },
   "file_extension": ".py",
   "mimetype": "text/x-python",
   "name": "python",
   "nbconvert_exporter": "python",
   "pygments_lexer": "ipython3",
   "version": "3.8.5"
  }
 },
 "nbformat": 4,
 "nbformat_minor": 4
}
